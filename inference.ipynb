{
 "cells": [
  {
   "cell_type": "code",
   "execution_count": 1,
   "source": [
    "import torch\n",
    "from efficientnet_pytorch import EfficientNet\n",
    "from PIL import Image, ImageDraw, ImageFont\n",
    "import numpy as np\n",
    "from pathlib import Path"
   ],
   "outputs": [],
   "metadata": {}
  },
  {
   "cell_type": "code",
   "execution_count": 20,
   "source": [
    "# you can find a pretrained model at model/b3.pth\n",
    "MODEL_F = '/home/ljw/projects/vehicle-speed-estimation/model/b0.pth'\n",
    "# directory with the numpy optical flow images you want to use for inference\n",
    "OF_NPY_DIR = '/data_4T/EV_RAFT/opticalflow/'"
   ],
   "outputs": [],
   "metadata": {}
  },
  {
   "cell_type": "code",
   "execution_count": 21,
   "source": [
    "# check if cuda is available\n",
    "device = 'cuda' if torch.cuda.is_available() else 'cpu'"
   ],
   "outputs": [],
   "metadata": {}
  },
  {
   "cell_type": "markdown",
   "source": [
    "## Load Model"
   ],
   "metadata": {}
  },
  {
   "cell_type": "code",
   "execution_count": 22,
   "source": [
    "V = 0     # what version of efficientnet did you use\n",
    "IN_C = 2  # number of input channels\n",
    "NUM_C = 1 # number of classes to predict"
   ],
   "outputs": [],
   "metadata": {}
  },
  {
   "cell_type": "code",
   "execution_count": 23,
   "source": [
    "model = EfficientNet.from_pretrained(f'efficientnet-b{V}', in_channels=IN_C, num_classes=NUM_C)\n",
    "state = torch.load(MODEL_F)\n",
    "model.load_state_dict(state)\n",
    "model.to(device);"
   ],
   "outputs": [
    {
     "output_type": "stream",
     "name": "stdout",
     "text": [
      "Loaded pretrained weights for efficientnet-b0\n"
     ]
    }
   ],
   "metadata": {}
  },
  {
   "cell_type": "code",
   "execution_count": 24,
   "source": [
    "def inference(of_f):\n",
    "    of = np.load(of_f)\n",
    "    i = torch.from_numpy(of).to(device)\n",
    "    pred = model(i)\n",
    "    del i\n",
    "    torch.cuda.empty_cache()\n",
    "    return pred"
   ],
   "outputs": [],
   "metadata": {}
  },
  {
   "cell_type": "code",
   "execution_count": null,
   "source": [
    "# loop over all files in directory and predict\n",
    "for f in Path(OF_NPY_DIR).glob('*.npy'):\n",
    "    y_hat = inference(f).item()\n",
    "    print(f'{f.name}: {round(y_hat, 2)}')"
   ],
   "outputs": [],
   "metadata": {}
  }
 ],
 "metadata": {
  "kernelspec": {
   "name": "python3",
   "display_name": "Python 3.8.8 64-bit ('base': conda)"
  },
  "language_info": {
   "codemirror_mode": {
    "name": "ipython",
    "version": 3
   },
   "file_extension": ".py",
   "mimetype": "text/x-python",
   "name": "python",
   "nbconvert_exporter": "python",
   "pygments_lexer": "ipython3",
   "version": "3.8.8"
  },
  "interpreter": {
   "hash": "2aeb8807af674c25e42d3b954bdf81ebbd8b3b7269d8598fd0a060a9edf341c1"
  }
 },
 "nbformat": 4,
 "nbformat_minor": 4
}